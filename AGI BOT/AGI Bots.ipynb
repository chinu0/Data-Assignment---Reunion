{
 "cells": [
  {
   "cell_type": "code",
   "execution_count": 12,
   "id": "5311cd47",
   "metadata": {},
   "outputs": [],
   "source": [
    "import pandas as pd"
   ]
  },
  {
   "cell_type": "code",
   "execution_count": 20,
   "id": "18724574",
   "metadata": {},
   "outputs": [],
   "source": [
    "from datetime import datetime"
   ]
  },
  {
   "cell_type": "code",
   "execution_count": 18,
   "id": "6ee2cb8c",
   "metadata": {},
   "outputs": [],
   "source": [
    "data = pd.read_csv('Time Series.csv')"
   ]
  },
  {
   "cell_type": "code",
   "execution_count": 34,
   "id": "7c49f38b",
   "metadata": {},
   "outputs": [],
   "source": [
    "data['Start'] = pd.to_datetime(data['Start'], dayfirst=True)\n",
    "data['End'] = pd.to_datetime(data['End'], dayfirst=True)\n",
    "\n",
    "# Create a new DataFrame to store continuous work periods\n",
    "result_data = pd.DataFrame(columns=['Name', 'Start', 'End', 'Activity'])"
   ]
  },
  {
   "cell_type": "code",
   "execution_count": 22,
   "id": "20a757f3",
   "metadata": {},
   "outputs": [],
   "source": [
    "data.sort_values(by=['Name', 'Start'], inplace=True)"
   ]
  },
  {
   "cell_type": "code",
   "execution_count": 38,
   "id": "ce94aa21",
   "metadata": {},
   "outputs": [],
   "source": [
    "# Create a list to store the continuous work periods\n",
    "result_rows = []"
   ]
  },
  {
   "cell_type": "code",
   "execution_count": 39,
   "id": "2a4be5f6",
   "metadata": {},
   "outputs": [
    {
     "name": "stdout",
     "output_type": "stream",
     "text": [
      "        Name               Start                 End   \n",
      "0     Deepti 2023-04-01 01:07:00 2023-10-15 15:31:00  \\\n",
      "1      Jyoti 2023-04-01 01:07:00 2023-10-15 13:07:00   \n",
      "2   Priyanka 2023-04-01 03:31:00 2023-10-15 15:31:00   \n",
      "3       Ravi 2023-04-01 01:07:00 2023-10-15 08:19:00   \n",
      "4       Ravi 2023-10-15 13:07:00 2023-04-18 10:43:00   \n",
      "5       Ravi 2023-10-15 13:07:00 2023-08-27 08:19:00   \n",
      "6       Ravi 2023-10-15 03:31:00 2023-08-26 17:55:00   \n",
      "7       Ravi 2023-10-15 08:19:00 2023-07-19 13:07:00   \n",
      "8       Ravi 2023-10-15 10:43:00 2023-06-10 17:55:00   \n",
      "9       Ravi 2023-10-15 10:43:00 2023-06-28 13:07:00   \n",
      "10      Ravi 2023-10-15 10:43:00 2023-07-26 01:07:00   \n",
      "11      Ravi 2023-10-15 10:43:00 2023-07-06 13:07:00   \n",
      "12      Ravi 2023-09-15 13:07:00 2023-05-25 01:07:00   \n",
      "13      Ravi 2023-09-15 03:31:00 2023-10-15 08:19:00   \n",
      "14    Sharan 2023-04-01 01:07:00 2023-10-14 22:43:00   \n",
      "15    Sharan 2023-10-15 03:31:00 2023-08-11 03:31:00   \n",
      "16    Sharan 2023-10-15 03:31:00 2023-07-11 17:55:00   \n",
      "17    Sharan 2023-10-15 03:31:00 2023-06-14 17:55:00   \n",
      "18    Sharan 2023-10-15 15:31:00 2023-07-23 17:55:00   \n",
      "19    Sharan 2023-10-15 08:19:00 2023-07-20 08:19:00   \n",
      "20    Sharan 2023-10-15 08:19:00 2023-08-14 17:55:00   \n",
      "21    Sharan 2023-10-15 08:19:00 2023-04-08 05:55:00   \n",
      "22    Sharan 2023-09-15 01:07:00 2023-04-18 01:07:00   \n",
      "23    Sharan 2023-09-15 13:07:00 2023-08-24 22:43:00   \n",
      "24    Sharan 2023-09-15 03:31:00 2023-07-22 10:43:00   \n",
      "25    Sharan 2023-09-15 17:55:00 2023-07-03 20:19:00   \n",
      "26    Sharan 2023-09-15 17:55:00 2023-07-24 20:19:00   \n",
      "27    Sharan 2023-09-15 17:55:00 2023-04-10 05:55:00   \n",
      "28    Sharan 2023-09-15 08:19:00 2023-10-15 05:55:00   \n",
      "\n",
      "                                           Activities  \n",
      "0   [Business Development, Fund raising, Updates, ...  \n",
      "1   [Reporting, Updates, Inspection, Fund raising,...  \n",
      "2   [Reply to Customers, Business Development, Ins...  \n",
      "3   [Reply to Customers, Podcast, Fund raising, Re...  \n",
      "4                                        [Send Email]  \n",
      "5                                           [Podcast]  \n",
      "6                                              [Call]  \n",
      "7                                [Reply to Customers]  \n",
      "8                                        [Send Email]  \n",
      "9                                         [Reporting]  \n",
      "10                                       [Inspection]  \n",
      "11                                       [Inspection]  \n",
      "12                                             [Call]  \n",
      "13  [Fund raising, Call, Podcast, Business Develop...  \n",
      "14  [Fund raising, Updates, Fund raising, Send Ema...  \n",
      "15                                             [Call]  \n",
      "16                                       [Send Email]  \n",
      "17                               [Reply to Customers]  \n",
      "18                                     [Fund raising]  \n",
      "19                                     [Fund raising]  \n",
      "20                                        [Reporting]  \n",
      "21                                          [Podcast]  \n",
      "22                               [Reply to Customers]  \n",
      "23                                       [Send Email]  \n",
      "24                               [Reply to Customers]  \n",
      "25                                          [Podcast]  \n",
      "26                             [Business Development]  \n",
      "27                                     [Fund raising]  \n",
      "28  [Send Email, Fund raising, Send Email, Inspect...  \n"
     ]
    }
   ],
   "source": [
    "for name, group in data.groupby('Name'):\n",
    "    current_period_start = None\n",
    "    current_period_end = None\n",
    "    current_activities = []\n",
    "\n",
    "    for index, row in group.iterrows():\n",
    "        if current_period_start is None:\n",
    "            current_period_start = row['Start']\n",
    "            current_period_end = row['End']\n",
    "            current_activities.append(row['Activity'])\n",
    "        else:\n",
    "            if row['Start'] <= current_period_end:\n",
    "                current_period_end = max(current_period_end, row['End'])\n",
    "                current_activities.append(row['Activity'])\n",
    "            else:\n",
    "                result_rows.append({\n",
    "                    'Name': name,\n",
    "                    'Start': current_period_start,\n",
    "                    'End': current_period_end,\n",
    "                    'Activities': current_activities\n",
    "                })\n",
    "                current_period_start = row['Start']\n",
    "                current_period_end = row['End']\n",
    "                current_activities = [row['Activity']]\n",
    "\n",
    "    if current_period_start is not None:\n",
    "        result_rows.append({\n",
    "            'Name': name,\n",
    "            'Start': current_period_start,\n",
    "            'End': current_period_end,\n",
    "            'Activities': current_activities\n",
    "        })\n",
    "\n",
    "# Create a new DataFrame from the collected results\n",
    "result_data = pd.DataFrame(result_rows)\n",
    "\n",
    "# Output the final result\n",
    "print(result_data)"
   ]
  },
  {
   "cell_type": "code",
   "execution_count": null,
   "id": "b5c1d825",
   "metadata": {},
   "outputs": [],
   "source": []
  }
 ],
 "metadata": {
  "kernelspec": {
   "display_name": "Python 3 (ipykernel)",
   "language": "python",
   "name": "python3"
  },
  "language_info": {
   "codemirror_mode": {
    "name": "ipython",
    "version": 3
   },
   "file_extension": ".py",
   "mimetype": "text/x-python",
   "name": "python",
   "nbconvert_exporter": "python",
   "pygments_lexer": "ipython3",
   "version": "3.10.11"
  }
 },
 "nbformat": 4,
 "nbformat_minor": 5
}
